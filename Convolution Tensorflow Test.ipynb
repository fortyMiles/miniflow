{
 "cells": [
  {
   "cell_type": "markdown",
   "metadata": {},
   "source": [
    "### Convolution Tensorflow Test"
   ]
  },
  {
   "cell_type": "code",
   "execution_count": 10,
   "metadata": {
    "collapsed": true
   },
   "outputs": [],
   "source": [
    "\"\"\"\n",
    "Setup the strides, padding and filter weight/bias such that\n",
    "the output shape is (1, 2, 2, 3).\n",
    "\"\"\"\n",
    "import tensorflow as tf\n",
    "import numpy as np\n",
    "\n",
    "# `tf.nn.conv2d` requires the input be 4D (batch_size, height, width, depth)\n",
    "# (1, 4, 4, 1)\n",
    "x = np.array([\n",
    "    [0, 1, 0.5, 10],\n",
    "    [2, 2.5, 1, -8],\n",
    "    [4, 0, 5, 6],\n",
    "    [15, 1, 2, 3]], dtype=np.float32).reshape((1, 4, 4, 1))\n",
    "X = tf.constant(x)\n",
    "\n",
    "\n",
    "def conv2d(input):\n",
    "    # Filter (weights and bias)\n",
    "    # The shape of the filter weight is (height, width, input_depth, output_depth)\n",
    "    # The shape of the filter bias is (output_depth,)\n",
    "    # TODO: Define the filter weights `F_W` and filter bias `F_b`.\n",
    "    # NOTE: Remember to wrap them in `tf.Variable`, they are trainable parameters after all.\n",
    "  #  F_W = tf.Variable(tf.truncated_normal([4, 4, 1, 3]))\n",
    "    F_W = tf.Variable(tf.truncated_normal([1, 1, 1, 3]))\n",
    "    F_b = tf.Variable(tf.zeros(3))\n",
    "    # TODO: Set the stride for each dimension (batch_size, height, width, depth)\n",
    "    strides = [1, 1, 1, 1]\n",
    "    # TODO: set the padding, either 'VALID' or 'SAME'.\n",
    "    padding = 'VALID'\n",
    "    # https://www.tensorflow.org/versions/r0.11/api_docs/python/nn.html#conv2d\n",
    "    # `tf.nn.conv2d` does not include the bias computation so we have to add it ourselves after.\n",
    "    return tf.nn.conv2d(input, F_W, strides, padding) + F_b\n",
    "\n",
    "out = conv2d(X)\n",
    "\n"
   ]
  },
  {
   "cell_type": "code",
   "execution_count": 11,
   "metadata": {
    "collapsed": false
   },
   "outputs": [
    {
     "data": {
      "text/plain": [
       "TensorShape([Dimension(1), Dimension(4), Dimension(4), Dimension(3)])"
      ]
     },
     "execution_count": 11,
     "metadata": {},
     "output_type": "execute_result"
    }
   ],
   "source": [
    "out.shape"
   ]
  },
  {
   "cell_type": "markdown",
   "metadata": {},
   "source": [
    "### Note\n",
    "\n",
    "filter_weight = [filter_width, filter_height, input_depth, output_depth]\n",
    "\n",
    "out_size = (input_size + 2xpadding - filter_width) / S + 1\n",
    "\n",
    "so, in in orde to keep the out_size to be (1, 2, 2, 3). \n",
    "\n",
    "if padding is 'SAME'. means, padding == 1. \n",
    "\n",
    "input_size + padding == 4 + 1x2 == 6\n",
    "\n",
    "(6 - filter_wdith) / 2 + 1 == 2\n",
    "\n",
    "=> (6 - filter_width) / 2 = 1\n",
    "=> 6 - filter_width == 2 or 3\n",
    "==> filter_widht == 3 or 4\n",
    "\n",
    "*Why the filter weight's size is (filter_width, filter_height, input_depth, output_depth)*? \n",
    "\n",
    "because each `fitler node` we need fitler_width * filter_height's weight, and we need through input_depth passes, besides, we have output_depth's filters. So the filter weight size is (filter_width, fitler_height, input_depth, output_depth)\n",
    "\n",
    "### Question: What's the stride's in convoluntional nueral networks for ? \n",
    "\n",
    "strides stand for the stides of filter move over the original data. \n",
    "\n",
    "(W - F + 2\\*P)/ S + 1\n",
    "\n",
    "accurated: \n",
    "\n",
    "> out_height = ceil(float(in_height - filter_height + 1) / float(strides[1]))\n",
    "\n",
    "we get the filter_width or filter_height.\n",
    "S is the stride."
   ]
  },
  {
   "cell_type": "code",
   "execution_count": null,
   "metadata": {
    "collapsed": true
   },
   "outputs": [],
   "source": []
  }
 ],
 "metadata": {
  "kernelspec": {
   "display_name": "Python 2",
   "language": "python",
   "name": "python2"
  },
  "language_info": {
   "codemirror_mode": {
    "name": "ipython",
    "version": 2
   },
   "file_extension": ".py",
   "mimetype": "text/x-python",
   "name": "python",
   "nbconvert_exporter": "python",
   "pygments_lexer": "ipython2",
   "version": "2.7.10"
  }
 },
 "nbformat": 4,
 "nbformat_minor": 1
}
