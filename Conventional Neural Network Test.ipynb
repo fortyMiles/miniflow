{
 "cells": [
  {
   "cell_type": "markdown",
   "metadata": {},
   "source": [
    "### Convotional Neural Network Test"
   ]
  },
  {
   "cell_type": "markdown",
   "metadata": {},
   "source": [
    "#### Pooling "
   ]
  },
  {
   "cell_type": "code",
   "execution_count": 2,
   "metadata": {
    "collapsed": false
   },
   "outputs": [
    {
     "name": "stdout",
     "output_type": "stream",
     "text": [
      "(4, 4)\n",
      "[[[2.5, 10.0], [15.0, 6.0]]]\n",
      "(4, 4)\n",
      "[[[1.375, 0.875], [5.0, 4.0]]]\n"
     ]
    },
    {
     "data": {
      "text/plain": [
       "[[[1.375, 0.875], [5.0, 4.0]]]"
      ]
     },
     "execution_count": 2,
     "metadata": {},
     "output_type": "execute_result"
    }
   ],
   "source": [
    "import numpy as np\n",
    "\n",
    "\n",
    "def pooling(input_tensor, pooling_size=(2, 2), pooling_stride=(2, 2), function=max):\n",
    "    '''\n",
    "    Define a pooling layer. \n",
    "    Return: output_tensor\n",
    "    '''\n",
    "    input_tensor = np.array(input_tensor)\n",
    "    x, y = 0, 0 # tensor begin point\n",
    "    width, height = pooling_size\n",
    "    x_stride, y_stride = pooling_stride\n",
    "    result = []\n",
    "    \n",
    "    for tensor in input_tensor: ## get every channel's tensor\n",
    "        pooled_channel = []\n",
    "        x, y = 0, 0\n",
    "        print(tensor.shape)\n",
    "        while y < tensor.shape[0]:\n",
    "            pooled_column = []\n",
    "            x = 0 # x reset to begin of a column\n",
    "            while x < tensor.shape[1]:\n",
    "                partial = get_partial(tensor, x, y, width, height)\n",
    "                target = function([num for c in partial for num in c])\n",
    "                pooled_column.append(target)\n",
    "                x += x_stride\n",
    "            pooled_channel.append(pooled_column)\n",
    "            y += y_stride\n",
    "        result.append(pooled_channel)\n",
    "        \n",
    "    print(result)\n",
    "    return result\n",
    "\n",
    "            \n",
    "def get_partial(matrix, x, y, width, height, padding=False):\n",
    "    '''\n",
    "    Get the partial of a matrix. like input @param [[1, 2, 3], [3, 4, 5], [6, 7, 8]], 0, 0, 2, 2\n",
    "    returns [[1, 2], [3, 4]]\n",
    "    '''\n",
    "    return np.array([c[x:x+width] for c in matrix[y: y+height]])\n",
    "            \n",
    "    \n",
    "\n",
    "assert(np.array_equal(\n",
    "        get_partial([[1, 2, 3], [3, 4, 5], [6, 7, 8]], 0, 0, 2, 2), [[1, 2], [3, 4]])\n",
    "    )\n",
    "assert(np.array_equal(\n",
    "        get_partial([[1, 2, 3], [3, 4, 5], [6, 7, 8]], 1, 1, 3, 3), [[4, 5], [7, 8]])\n",
    "      )\n",
    "\n",
    "assert(np.array_equal(\n",
    "        get_partial([\n",
    "                [0, 1, 0.5, 10],\n",
    "                [2, 2.5, 1, -8],\n",
    "                [4, 0, 5, 6],\n",
    "                [15, 1, 2, 3]], 2, 0, 2, 2), [[0.5, 10], [1, -8]])\n",
    "      )\n",
    "\n",
    "\n",
    "\n",
    "\n",
    "input_tensor = [[[0, 1, 0.5, 10],\n",
    "   [2, 2.5, 1, -8],\n",
    "   [4, 0, 5, 6],\n",
    "   [15, 1, 2, 3]]] # 4 x 4 by channel 1\n",
    "\n",
    "assert(np.array_equal(pooling(input_tensor), [\n",
    "        [[2.5, 10], \n",
    "         [15, 6]]\n",
    "    ]))\n",
    "\n",
    "pooling(input_tensor, function=lambda L: sum(L)*1./len(L))"
   ]
  },
  {
   "cell_type": "code",
   "execution_count": null,
   "metadata": {
    "collapsed": true
   },
   "outputs": [],
   "source": []
  }
 ],
 "metadata": {
  "kernelspec": {
   "display_name": "Python 2",
   "language": "python",
   "name": "python2"
  },
  "language_info": {
   "codemirror_mode": {
    "name": "ipython",
    "version": 2
   },
   "file_extension": ".py",
   "mimetype": "text/x-python",
   "name": "python",
   "nbconvert_exporter": "python",
   "pygments_lexer": "ipython2",
   "version": "2.7.10"
  }
 },
 "nbformat": 4,
 "nbformat_minor": 1
}
